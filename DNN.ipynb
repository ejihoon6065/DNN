{
 "cells": [
  {
   "cell_type": "code",
   "execution_count": 4,
   "metadata": {},
   "outputs": [],
   "source": [
    "import numpy as np\n",
    "import tensorflow as tf\n",
    "from keras.layers import Input, Dense\n",
    "from keras.models import Model\n",
    "from keras import backend\n",
    "from keras import datasets\n",
    "from keras import layers, models\n",
    "from keras.utils import np_utils"
   ]
  },
  {
   "cell_type": "code",
   "execution_count": 1,
   "metadata": {},
   "outputs": [],
   "source": [
    "Nin = 784\n",
    "Nh_l = [100, 50]\n",
    "number_of_class = 10\n",
    "Nout = number_of_class"
   ]
  },
  {
   "cell_type": "code",
   "execution_count": 3,
   "metadata": {},
   "outputs": [],
   "source": [
    "class DNN(models.Sequential) :\n",
    "    def __init__(self,Nin,Nh_l, Nout) :\n",
    "        super().__init__()\n",
    "        self.add(layers.Dense(Nh_l[0], activation='relu', input_shape=(Nin,), name='Hidden-1'))\n",
    "        self.add(layers.Dense(Nh_l[1], activation='relu', name='Hidden-2'))\n",
    "        self.add(layers.Dense(Nout, activation='softmax'))\n",
    "        self.compile(loss='categorical_crossentropy', optimizer='adam', metrics=['accuracy'])"
   ]
  },
  {
   "cell_type": "code",
   "execution_count": 5,
   "metadata": {},
   "outputs": [],
   "source": [
    "(X_train, y_train), (X_test, y_test) = datasets.mnist.load_data()"
   ]
  },
  {
   "cell_type": "code",
   "execution_count": 7,
   "metadata": {},
   "outputs": [],
   "source": [
    "y_train = np_utils.to_categorical(y_train)\n",
    "y_test = np_utils.to_categorical(y_test)\n",
    "L, W, H = X_train.shape\n",
    "X_train = X_train.reshape(-1, W*H)\n",
    "X_test = X_test.reshape(-1, W*H)\n",
    "X_train = X_train / 255.0\n",
    "X_test = X_test / 255.0"
   ]
  },
  {
   "cell_type": "code",
   "execution_count": 8,
   "metadata": {},
   "outputs": [],
   "source": [
    "model = DNN(Nin, Nh_l, Nout)"
   ]
  },
  {
   "cell_type": "code",
   "execution_count": 9,
   "metadata": {},
   "outputs": [
    {
     "name": "stdout",
     "output_type": "stream",
     "text": [
      "Epoch 1/10\n",
      "480/480 [==============================] - 6s 13ms/step - loss: 0.3833 - accuracy: 0.8925 - val_loss: 0.1848 - val_accuracy: 0.9476\n",
      "Epoch 2/10\n",
      "480/480 [==============================] - 5s 11ms/step - loss: 0.1572 - accuracy: 0.9551 - val_loss: 0.1344 - val_accuracy: 0.9607\n",
      "Epoch 3/10\n",
      "480/480 [==============================] - 5s 11ms/step - loss: 0.1116 - accuracy: 0.9673 - val_loss: 0.1152 - val_accuracy: 0.9657\n",
      "Epoch 4/10\n",
      "480/480 [==============================] - 5s 10ms/step - loss: 0.0858 - accuracy: 0.9741 - val_loss: 0.1083 - val_accuracy: 0.9689\n",
      "Epoch 5/10\n",
      "480/480 [==============================] - 5s 11ms/step - loss: 0.0660 - accuracy: 0.9797 - val_loss: 0.1011 - val_accuracy: 0.9697\n",
      "Epoch 6/10\n",
      "480/480 [==============================] - 5s 10ms/step - loss: 0.0560 - accuracy: 0.9831 - val_loss: 0.0911 - val_accuracy: 0.9722\n",
      "Epoch 7/10\n",
      "480/480 [==============================] - 5s 11ms/step - loss: 0.0455 - accuracy: 0.9867 - val_loss: 0.0979 - val_accuracy: 0.9708\n",
      "Epoch 8/10\n",
      "480/480 [==============================] - 5s 11ms/step - loss: 0.0377 - accuracy: 0.9887 - val_loss: 0.0927 - val_accuracy: 0.9728\n",
      "Epoch 9/10\n",
      "480/480 [==============================] - 5s 11ms/step - loss: 0.0331 - accuracy: 0.9898 - val_loss: 0.0982 - val_accuracy: 0.9727\n",
      "Epoch 10/10\n",
      "480/480 [==============================] - 5s 10ms/step - loss: 0.0265 - accuracy: 0.9921 - val_loss: 0.0928 - val_accuracy: 0.9741\n"
     ]
    }
   ],
   "source": [
    "history = model.fit(X_train, y_train, epochs=10, batch_size = 100, validation_split=0.2)"
   ]
  },
  {
   "cell_type": "code",
   "execution_count": 10,
   "metadata": {},
   "outputs": [
    {
     "name": "stdout",
     "output_type": "stream",
     "text": [
      "100/100 [==============================] - 1s 6ms/step - loss: 0.0829 - accuracy: 0.9761\n"
     ]
    }
   ],
   "source": [
    "performance_test = model.evaluate(X_test, y_test, batch_size=100)"
   ]
  },
  {
   "cell_type": "code",
   "execution_count": 11,
   "metadata": {},
   "outputs": [
    {
     "name": "stdout",
     "output_type": "stream",
     "text": [
      "Test Loss and Accuracy -> [0.08290132135152817, 0.9761000275611877]\n"
     ]
    }
   ],
   "source": [
    "print('Test Loss and Accuracy ->', performance_test)"
   ]
  },
  {
   "cell_type": "code",
   "execution_count": null,
   "metadata": {},
   "outputs": [],
   "source": []
  }
 ],
 "metadata": {
  "kernelspec": {
   "display_name": "Python 3",
   "language": "python",
   "name": "python3"
  },
  "language_info": {
   "codemirror_mode": {
    "name": "ipython",
    "version": 3
   },
   "file_extension": ".py",
   "mimetype": "text/x-python",
   "name": "python",
   "nbconvert_exporter": "python",
   "pygments_lexer": "ipython3",
   "version": "3.7.6"
  }
 },
 "nbformat": 4,
 "nbformat_minor": 4
}
